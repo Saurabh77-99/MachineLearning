{
  "nbformat": 4,
  "nbformat_minor": 0,
  "metadata": {
    "colab": {
      "provenance": [],
      "authorship_tag": "ABX9TyNmepYtFnj+hEX/D15414lu",
      "include_colab_link": true
    },
    "kernelspec": {
      "name": "python3",
      "display_name": "Python 3"
    },
    "language_info": {
      "name": "python"
    }
  },
  "cells": [
    {
      "cell_type": "markdown",
      "metadata": {
        "id": "view-in-github",
        "colab_type": "text"
      },
      "source": [
        "<a href=\"https://colab.research.google.com/github/Saurabh77-99/MachineLearning/blob/main/Matrix2.ipynb\" target=\"_parent\"><img src=\"https://colab.research.google.com/assets/colab-badge.svg\" alt=\"Open In Colab\"/></a>"
      ]
    },
    {
      "cell_type": "code",
      "execution_count": 1,
      "metadata": {
        "id": "Pu2Wtzy1N3Oe"
      },
      "outputs": [],
      "source": [
        "import numpy as np"
      ]
    },
    {
      "cell_type": "markdown",
      "source": [
        "Matrix addition"
      ],
      "metadata": {
        "id": "VgFTQEf8OCRL"
      }
    },
    {
      "cell_type": "code",
      "source": [
        "matrix_1 = np.array([[2,3],[4,5]])\n",
        "matrix_2 = np.array([[10,35],[50,40]])\n",
        "matrix_3 = matrix_1 + matrix_2\n",
        "print(matrix_3)"
      ],
      "metadata": {
        "colab": {
          "base_uri": "https://localhost:8080/"
        },
        "id": "TIOaakipN_tx",
        "outputId": "2e945437-5dd5-4b5a-f524-66d4673dec57"
      },
      "execution_count": 3,
      "outputs": [
        {
          "output_type": "stream",
          "name": "stdout",
          "text": [
            "[[12 38]\n",
            " [54 45]]\n"
          ]
        }
      ]
    },
    {
      "cell_type": "code",
      "source": [
        "matrix_3.shape"
      ],
      "metadata": {
        "colab": {
          "base_uri": "https://localhost:8080/"
        },
        "id": "eimOMuleOQ7n",
        "outputId": "3566bd58-6285-40d5-9e84-ebd0f17b33ef"
      },
      "execution_count": 4,
      "outputs": [
        {
          "output_type": "execute_result",
          "data": {
            "text/plain": [
              "(2, 2)"
            ]
          },
          "metadata": {},
          "execution_count": 4
        }
      ]
    },
    {
      "cell_type": "code",
      "source": [
        "random_matrix1 = np.random.randint(10,size=(4,5))\n",
        "random_matrix2 = np.random.randint(100,size=(4,5))\n",
        "print(random_matrix1 + random_matrix2)"
      ],
      "metadata": {
        "colab": {
          "base_uri": "https://localhost:8080/"
        },
        "id": "zyQXhI77ObGN",
        "outputId": "8f146d52-9f1f-4503-ff89-413b772b443f"
      },
      "execution_count": 6,
      "outputs": [
        {
          "output_type": "stream",
          "name": "stdout",
          "text": [
            "[[ 51  27  95  61  12]\n",
            " [ 61  47  36  52  55]\n",
            " [ 59  79  17  80 104]\n",
            " [ 66  36   0  13  64]]\n"
          ]
        }
      ]
    },
    {
      "cell_type": "code",
      "source": [
        "sum = np.add(random_matrix1,random_matrix2)\n",
        "print(sum)"
      ],
      "metadata": {
        "colab": {
          "base_uri": "https://localhost:8080/"
        },
        "id": "EEMyU8cmOnbC",
        "outputId": "79ebbac1-6a71-4e80-9fd8-1725a2747d95"
      },
      "execution_count": 8,
      "outputs": [
        {
          "output_type": "stream",
          "name": "stdout",
          "text": [
            "[[ 51  27  95  61  12]\n",
            " [ 61  47  36  52  55]\n",
            " [ 59  79  17  80 104]\n",
            " [ 66  36   0  13  64]]\n"
          ]
        }
      ]
    },
    {
      "cell_type": "code",
      "source": [
        "diff = np.subtract(random_matrix1,random_matrix2)\n",
        "print(diff)"
      ],
      "metadata": {
        "colab": {
          "base_uri": "https://localhost:8080/"
        },
        "id": "lZLtO6KtOv9D",
        "outputId": "46bf3a83-a2a2-418a-d435-afd70c3ad559"
      },
      "execution_count": 9,
      "outputs": [
        {
          "output_type": "stream",
          "name": "stdout",
          "text": [
            "[[-49 -23 -87 -57 -10]\n",
            " [-61 -33 -20 -48 -53]\n",
            " [-43 -61 -17 -62 -88]\n",
            " [-52 -24   0 -13 -46]]\n"
          ]
        }
      ]
    },
    {
      "cell_type": "code",
      "source": [
        "x = 5\n",
        "y = np.random.randint(10,size=(4,4))\n",
        "print(y)"
      ],
      "metadata": {
        "colab": {
          "base_uri": "https://localhost:8080/"
        },
        "id": "WwPW3sCvPDMs",
        "outputId": "a1bec8f0-2c71-4e81-acc4-dc87a3973d78"
      },
      "execution_count": 19,
      "outputs": [
        {
          "output_type": "stream",
          "name": "stdout",
          "text": [
            "[[3 9 9 8]\n",
            " [1 7 6 0]\n",
            " [1 1 1 4]\n",
            " [5 5 3 8]]\n"
          ]
        }
      ]
    },
    {
      "cell_type": "code",
      "source": [
        "product = np.dot(x,y)"
      ],
      "metadata": {
        "id": "073tFPzYPOck"
      },
      "execution_count": 20,
      "outputs": []
    },
    {
      "cell_type": "code",
      "source": [
        "print(product)"
      ],
      "metadata": {
        "colab": {
          "base_uri": "https://localhost:8080/"
        },
        "id": "yp3IqGHYPS1Y",
        "outputId": "5694e7b4-f2bc-4c03-9ac8-42d3bf49cbb1"
      },
      "execution_count": 21,
      "outputs": [
        {
          "output_type": "stream",
          "name": "stdout",
          "text": [
            "[[15 45 45 40]\n",
            " [ 5 35 30  0]\n",
            " [ 5  5  5 20]\n",
            " [25 25 15 40]]\n"
          ]
        }
      ]
    },
    {
      "cell_type": "code",
      "source": [
        "y = np.random.randint(10,size=(4,4))\n",
        "x = np.random.randint(10,size=(4,4))\n",
        "product = np.dot(x,y)\n",
        "print(product)"
      ],
      "metadata": {
        "colab": {
          "base_uri": "https://localhost:8080/"
        },
        "id": "UFh1vPoTPUmG",
        "outputId": "65450b06-4f62-4f81-d0ae-d11c506b77d3"
      },
      "execution_count": 22,
      "outputs": [
        {
          "output_type": "stream",
          "name": "stdout",
          "text": [
            "[[ 97  63 129 102]\n",
            " [111  90 153 140]\n",
            " [ 65  38  72  79]\n",
            " [ 16   2  20  18]]\n"
          ]
        }
      ]
    },
    {
      "cell_type": "markdown",
      "source": [
        "Element wise multiplication"
      ],
      "metadata": {
        "id": "xsiZZZYBQcrb"
      }
    },
    {
      "cell_type": "code",
      "source": [
        "y = np.random.randint(10,size=(4,4))\n",
        "x = np.random.randint(10,size=(4,4))\n",
        "product = np.multiply(x,y)\n",
        "print(product)"
      ],
      "metadata": {
        "colab": {
          "base_uri": "https://localhost:8080/"
        },
        "id": "Eu1t9M2APl1X",
        "outputId": "b31d4d29-99af-4ac8-a253-ce90cc93881a"
      },
      "execution_count": 18,
      "outputs": [
        {
          "output_type": "stream",
          "name": "stdout",
          "text": [
            "[[ 0 63 81  0]\n",
            " [40 40 20  2]\n",
            " [ 0 16 32  8]\n",
            " [ 0  3 12  0]]\n"
          ]
        }
      ]
    },
    {
      "cell_type": "code",
      "source": [],
      "metadata": {
        "id": "3sxBhkbyQvgu"
      },
      "execution_count": null,
      "outputs": []
    }
  ]
}