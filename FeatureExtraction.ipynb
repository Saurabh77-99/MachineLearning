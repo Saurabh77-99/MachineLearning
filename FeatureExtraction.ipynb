{
  "nbformat": 4,
  "nbformat_minor": 0,
  "metadata": {
    "colab": {
      "provenance": [],
      "authorship_tag": "ABX9TyPwYZqSwBs5bh1rod6IqAyN",
      "include_colab_link": true
    },
    "kernelspec": {
      "name": "python3",
      "display_name": "Python 3"
    },
    "language_info": {
      "name": "python"
    }
  },
  "cells": [
    {
      "cell_type": "markdown",
      "metadata": {
        "id": "view-in-github",
        "colab_type": "text"
      },
      "source": [
        "<a href=\"https://colab.research.google.com/github/Saurabh77-99/MachineLearning/blob/main/FeatureExtraction.ipynb\" target=\"_parent\"><img src=\"https://colab.research.google.com/assets/colab-badge.svg\" alt=\"Open In Colab\"/></a>"
      ]
    },
    {
      "cell_type": "markdown",
      "source": [
        "Feature Extraction:\n",
        "\n",
        "The mapping from textual data to real valued vectors\n",
        "\n",
        "Bag of words(BOW) : list of unique words in the text corpus\n",
        "\n",
        "Term Frequency and Inverse Document Frequency(TF-IDF):\n",
        "To count the number of times each word appears in a document\n",
        "\n",
        "---------------\n",
        "TF-IDF Vectorizer:-\n",
        "\n",
        "TF = Number of times term t appears in a doc / num of terms in doc\n",
        "\n",
        "IDF = log(N/n) , N -> num of docs , n -> num of docs a term t has appeared in\n",
        "\n",
        "The IDF value of rare word is high , whereas IDF of frequent word is Low.\n",
        "\n",
        "TF-IDF value of a term = TF X IDF\n",
        "\n",
        "\n",
        "\n"
      ],
      "metadata": {
        "id": "l04nB5dJkl54"
      }
    },
    {
      "cell_type": "code",
      "execution_count": null,
      "metadata": {
        "id": "FKJwsGEVkfY1"
      },
      "outputs": [],
      "source": []
    }
  ]
}