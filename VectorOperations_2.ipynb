{
  "nbformat": 4,
  "nbformat_minor": 0,
  "metadata": {
    "colab": {
      "provenance": [],
      "authorship_tag": "ABX9TyOkvnbpeAOTzoMQLfn/kIkl",
      "include_colab_link": true
    },
    "kernelspec": {
      "name": "python3",
      "display_name": "Python 3"
    },
    "language_info": {
      "name": "python"
    }
  },
  "cells": [
    {
      "cell_type": "markdown",
      "metadata": {
        "id": "view-in-github",
        "colab_type": "text"
      },
      "source": [
        "<a href=\"https://colab.research.google.com/github/Saurabh77-99/MachineLearning/blob/main/VectorOperations_2.ipynb\" target=\"_parent\"><img src=\"https://colab.research.google.com/assets/colab-badge.svg\" alt=\"Open In Colab\"/></a>"
      ]
    },
    {
      "cell_type": "code",
      "execution_count": 1,
      "metadata": {
        "id": "3mDyWUtIe2fW"
      },
      "outputs": [],
      "source": [
        "import numpy as np"
      ]
    },
    {
      "cell_type": "markdown",
      "source": [
        "Dot Product of Vectors"
      ],
      "metadata": {
        "id": "5W3l8DwxfGk8"
      }
    },
    {
      "cell_type": "code",
      "source": [
        "a = np.array([2,3])\n",
        "b = np.array([4,4])\n",
        "a_dot_b = np.dot(a,b)"
      ],
      "metadata": {
        "id": "r9FGNNlee5nE"
      },
      "execution_count": 3,
      "outputs": []
    },
    {
      "cell_type": "code",
      "source": [
        "print(a_dot_b)"
      ],
      "metadata": {
        "colab": {
          "base_uri": "https://localhost:8080/"
        },
        "id": "SUJ5tVZ0gU1T",
        "outputId": "cffe8ef1-6fa4-4f96-9928-0f5f3458d848"
      },
      "execution_count": 4,
      "outputs": [
        {
          "output_type": "stream",
          "name": "stdout",
          "text": [
            "20\n"
          ]
        }
      ]
    },
    {
      "cell_type": "code",
      "source": [
        "c = np.array([20,30,40])\n",
        "d = np.array([30,40,50])\n",
        "c_dot_d = np.dot(c,d)"
      ],
      "metadata": {
        "id": "JRrZ6HrygZYi"
      },
      "execution_count": 5,
      "outputs": []
    },
    {
      "cell_type": "code",
      "source": [
        "print(c_dot_d)"
      ],
      "metadata": {
        "colab": {
          "base_uri": "https://localhost:8080/"
        },
        "id": "gc8crv9Zh1ss",
        "outputId": "1c3c7348-f0fc-4c9f-cfab-7a78a82c542b"
      },
      "execution_count": 6,
      "outputs": [
        {
          "output_type": "stream",
          "name": "stdout",
          "text": [
            "3800\n"
          ]
        }
      ]
    },
    {
      "cell_type": "markdown",
      "source": [
        "Cross Product of Two Vectors"
      ],
      "metadata": {
        "id": "jRzVWxu2h5Lt"
      }
    },
    {
      "cell_type": "code",
      "source": [
        "a = np.array([2,3])\n",
        "b = np.array([4,4])\n",
        "a_cross_b = np.cross(a,b)"
      ],
      "metadata": {
        "id": "VCMGE4axh4IZ"
      },
      "execution_count": 7,
      "outputs": []
    },
    {
      "cell_type": "code",
      "source": [
        "print(a_cross_b)"
      ],
      "metadata": {
        "colab": {
          "base_uri": "https://localhost:8080/"
        },
        "id": "O-tQsSb9iTPb",
        "outputId": "27c7ebda-da3a-4929-cddf-da174e7f9434"
      },
      "execution_count": 9,
      "outputs": [
        {
          "output_type": "stream",
          "name": "stdout",
          "text": [
            "-4\n"
          ]
        }
      ]
    },
    {
      "cell_type": "code",
      "source": [
        "c = np.array([20,30,40])\n",
        "d = np.array([30,40,50])\n",
        "c_cross_d = np.cross(c,d)"
      ],
      "metadata": {
        "id": "LzLnv5HLidqt"
      },
      "execution_count": 10,
      "outputs": []
    },
    {
      "cell_type": "code",
      "source": [
        "print(c_cross_d)"
      ],
      "metadata": {
        "colab": {
          "base_uri": "https://localhost:8080/"
        },
        "id": "x2qAKMF0igut",
        "outputId": "97d66ff6-25d0-4903-ed3e-1ff1dd505c0f"
      },
      "execution_count": 11,
      "outputs": [
        {
          "output_type": "stream",
          "name": "stdout",
          "text": [
            "[-100  200 -100]\n"
          ]
        }
      ]
    },
    {
      "cell_type": "markdown",
      "source": [
        "Projection of \"a\" vector on \"v\"\n"
      ],
      "metadata": {
        "id": "Pk7R0E_ri2Ty"
      }
    },
    {
      "cell_type": "code",
      "source": [
        "a = np.array([2,3])\n",
        "v = np.array([4,4])\n",
        "# magnitude of b vector\n",
        "mag_of_v = np.sqrt(sum(v**2))\n",
        "\n",
        "pro_a_on_v = (np.dot(a,v)/mag_of_v**2) *v\n",
        "\n",
        "print(pro_a_on_v)"
      ],
      "metadata": {
        "colab": {
          "base_uri": "https://localhost:8080/"
        },
        "id": "vWdGyDziijNO",
        "outputId": "0b31244d-f7bd-4255-fc58-c02ed0e376b5"
      },
      "execution_count": 15,
      "outputs": [
        {
          "output_type": "stream",
          "name": "stdout",
          "text": [
            "[2.5 2.5]\n"
          ]
        }
      ]
    },
    {
      "cell_type": "code",
      "source": [
        "a = np.array([2,3,5])\n",
        "v = np.array([4,4,5])\n",
        "# magnitude of b vector\n",
        "mag_of_v = np.sqrt(sum(v**2))\n",
        "\n",
        "pro_a_on_v = (np.dot(a,v)/mag_of_v**2) *v\n",
        "\n",
        "print(pro_a_on_v)"
      ],
      "metadata": {
        "colab": {
          "base_uri": "https://localhost:8080/"
        },
        "id": "IM2BTwqql3s8",
        "outputId": "32d0cfef-a41b-4575-8ea8-ffacfbc22486"
      },
      "execution_count": 16,
      "outputs": [
        {
          "output_type": "stream",
          "name": "stdout",
          "text": [
            "[3.15789474 3.15789474 3.94736842]\n"
          ]
        }
      ]
    }
  ]
}