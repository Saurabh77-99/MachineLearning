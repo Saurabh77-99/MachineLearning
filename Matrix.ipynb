{
  "nbformat": 4,
  "nbformat_minor": 0,
  "metadata": {
    "colab": {
      "provenance": [],
      "authorship_tag": "ABX9TyNb0iipO2r8GyF/SxCOb1/b",
      "include_colab_link": true
    },
    "kernelspec": {
      "name": "python3",
      "display_name": "Python 3"
    },
    "language_info": {
      "name": "python"
    }
  },
  "cells": [
    {
      "cell_type": "markdown",
      "metadata": {
        "id": "view-in-github",
        "colab_type": "text"
      },
      "source": [
        "<a href=\"https://colab.research.google.com/github/Saurabh77-99/MachineLearning/blob/main/Matrix.ipynb\" target=\"_parent\"><img src=\"https://colab.research.google.com/assets/colab-badge.svg\" alt=\"Open In Colab\"/></a>"
      ]
    },
    {
      "cell_type": "code",
      "execution_count": 1,
      "metadata": {
        "id": "5S-88hAUK3p7"
      },
      "outputs": [],
      "source": [
        "import numpy as np"
      ]
    },
    {
      "cell_type": "markdown",
      "source": [
        "Creating a Matrix using numpy"
      ],
      "metadata": {
        "id": "otRmkj7qLJ0C"
      }
    },
    {
      "cell_type": "code",
      "source": [
        "matrix_1 = np.array([[2,3],[6,7]])"
      ],
      "metadata": {
        "id": "IAME-ibcLCRv"
      },
      "execution_count": 3,
      "outputs": []
    },
    {
      "cell_type": "code",
      "source": [
        "print(matrix_1)"
      ],
      "metadata": {
        "colab": {
          "base_uri": "https://localhost:8080/"
        },
        "id": "ln5-YL8LLWcx",
        "outputId": "0c55933d-a3e3-4083-f809-ea9043b6d404"
      },
      "execution_count": 4,
      "outputs": [
        {
          "output_type": "stream",
          "name": "stdout",
          "text": [
            "[[2 3]\n",
            " [6 7]]\n"
          ]
        }
      ]
    },
    {
      "cell_type": "code",
      "source": [
        "matrix_1.shape"
      ],
      "metadata": {
        "colab": {
          "base_uri": "https://localhost:8080/"
        },
        "id": "j-M2dycPLgTl",
        "outputId": "b265305a-243c-460b-e2e6-d41c6b120165"
      },
      "execution_count": 5,
      "outputs": [
        {
          "output_type": "execute_result",
          "data": {
            "text/plain": [
              "(2, 2)"
            ]
          },
          "metadata": {},
          "execution_count": 5
        }
      ]
    },
    {
      "cell_type": "code",
      "source": [
        "matrix_2 = np.array([[10,35,45],[50,40,80],[20,15,90]])\n",
        "print(matrix_2)"
      ],
      "metadata": {
        "colab": {
          "base_uri": "https://localhost:8080/"
        },
        "id": "clpMJjTgLkth",
        "outputId": "30f4c83c-f811-4da5-e3ba-6590a300973d"
      },
      "execution_count": 6,
      "outputs": [
        {
          "output_type": "stream",
          "name": "stdout",
          "text": [
            "[[10 35 45]\n",
            " [50 40 80]\n",
            " [20 15 90]]\n"
          ]
        }
      ]
    },
    {
      "cell_type": "code",
      "source": [
        "matrix_2.shape"
      ],
      "metadata": {
        "colab": {
          "base_uri": "https://localhost:8080/"
        },
        "id": "K_0svlBHL3vP",
        "outputId": "2e95537b-e88c-4c88-b32b-adc61a77ed39"
      },
      "execution_count": 7,
      "outputs": [
        {
          "output_type": "execute_result",
          "data": {
            "text/plain": [
              "(3, 3)"
            ]
          },
          "metadata": {},
          "execution_count": 7
        }
      ]
    },
    {
      "cell_type": "markdown",
      "source": [
        "Creating matrices with random values"
      ],
      "metadata": {
        "id": "R3ff-h26L8E0"
      }
    },
    {
      "cell_type": "code",
      "source": [
        "random_matrix = np.random.rand(3,3)\n",
        "print(random_matrix)"
      ],
      "metadata": {
        "colab": {
          "base_uri": "https://localhost:8080/"
        },
        "id": "2gRclp6-L7BP",
        "outputId": "f1f7a5df-da98-4d34-a00e-e95d0d644e35"
      },
      "execution_count": 9,
      "outputs": [
        {
          "output_type": "stream",
          "name": "stdout",
          "text": [
            "[[9.62774811e-01 8.09886352e-01 9.02005777e-01]\n",
            " [4.81335917e-04 3.16316899e-01 9.87471146e-01]\n",
            " [9.69201203e-01 5.43412188e-01 7.70233992e-01]]\n"
          ]
        }
      ]
    },
    {
      "cell_type": "code",
      "source": [
        "random_matrix = np.random.randint(100,size=(4,5))\n",
        "print(random_matrix)"
      ],
      "metadata": {
        "colab": {
          "base_uri": "https://localhost:8080/"
        },
        "id": "a0BGK5wWMJ-r",
        "outputId": "34afc644-bbb1-4f8b-e680-ce3428067bba"
      },
      "execution_count": 11,
      "outputs": [
        {
          "output_type": "stream",
          "name": "stdout",
          "text": [
            "[[ 5 61 56 24 45]\n",
            " [25 40  5 11  5]\n",
            " [28 33 77 33  6]\n",
            " [86 36 65 34 74]]\n"
          ]
        }
      ]
    },
    {
      "cell_type": "code",
      "source": [
        "matrix_3 = np.ones((2,3))\n",
        "print(matrix_3)"
      ],
      "metadata": {
        "colab": {
          "base_uri": "https://localhost:8080/"
        },
        "id": "7SzwNPvDMS7z",
        "outputId": "c8c70f1e-0f2f-4aee-b095-0970cc995ab2"
      },
      "execution_count": 13,
      "outputs": [
        {
          "output_type": "stream",
          "name": "stdout",
          "text": [
            "[[1. 1. 1.]\n",
            " [1. 1. 1.]]\n"
          ]
        }
      ]
    },
    {
      "cell_type": "code",
      "source": [
        "matrix_3 = np.ones((2,3),dtype=int)\n",
        "print(matrix_3)"
      ],
      "metadata": {
        "colab": {
          "base_uri": "https://localhost:8080/"
        },
        "id": "044QpJzyMgsO",
        "outputId": "3394c1fc-ae2c-488b-9ce2-a34f4e55525a"
      },
      "execution_count": 14,
      "outputs": [
        {
          "output_type": "stream",
          "name": "stdout",
          "text": [
            "[[1 1 1]\n",
            " [1 1 1]]\n"
          ]
        }
      ]
    },
    {
      "cell_type": "markdown",
      "source": [
        "Null Matrix"
      ],
      "metadata": {
        "id": "Z5h6wKrCMu6f"
      }
    },
    {
      "cell_type": "code",
      "source": [
        "matrix_null = np.zeros((2,3))\n",
        "print(matrix_null)"
      ],
      "metadata": {
        "colab": {
          "base_uri": "https://localhost:8080/"
        },
        "id": "Qu3dG0pvMrtR",
        "outputId": "2285d17f-2115-4abf-c32f-ab8a5f553fdf"
      },
      "execution_count": 17,
      "outputs": [
        {
          "output_type": "stream",
          "name": "stdout",
          "text": [
            "[[0. 0. 0.]\n",
            " [0. 0. 0.]]\n"
          ]
        }
      ]
    },
    {
      "cell_type": "markdown",
      "source": [
        "Identity Matrix"
      ],
      "metadata": {
        "id": "zOE5BVnTM7Y0"
      }
    },
    {
      "cell_type": "code",
      "source": [
        "identity_matrix = np.eye(3,3)\n",
        "print(identity_matrix)"
      ],
      "metadata": {
        "colab": {
          "base_uri": "https://localhost:8080/"
        },
        "id": "RC3jlQj-M0iG",
        "outputId": "747556ad-b40d-44d3-bcd4-3418bf0f146b"
      },
      "execution_count": 18,
      "outputs": [
        {
          "output_type": "stream",
          "name": "stdout",
          "text": [
            "[[1. 0. 0.]\n",
            " [0. 1. 0.]\n",
            " [0. 0. 1.]]\n"
          ]
        }
      ]
    },
    {
      "cell_type": "markdown",
      "source": [
        "Transpose of Matrix"
      ],
      "metadata": {
        "id": "-e1GSX_VNGPo"
      }
    },
    {
      "cell_type": "code",
      "source": [
        "a = np.random.randint(100,size=(2,3))\n",
        "print(a)"
      ],
      "metadata": {
        "colab": {
          "base_uri": "https://localhost:8080/"
        },
        "id": "sMMS9j-BNC2T",
        "outputId": "9759fe71-265f-47ad-9ef8-7342cf6ddaea"
      },
      "execution_count": 19,
      "outputs": [
        {
          "output_type": "stream",
          "name": "stdout",
          "text": [
            "[[77 87 72]\n",
            " [38 98 82]]\n"
          ]
        }
      ]
    },
    {
      "cell_type": "code",
      "source": [
        "transpose_a = np.transpose(a)\n",
        "print(transpose_a)"
      ],
      "metadata": {
        "colab": {
          "base_uri": "https://localhost:8080/"
        },
        "id": "95ofF9G9NM_T",
        "outputId": "a7562843-64d4-4e0c-fa17-a86604aa6c4a"
      },
      "execution_count": 21,
      "outputs": [
        {
          "output_type": "stream",
          "name": "stdout",
          "text": [
            "[[77 38]\n",
            " [87 98]\n",
            " [72 82]]\n"
          ]
        }
      ]
    }
  ]
}